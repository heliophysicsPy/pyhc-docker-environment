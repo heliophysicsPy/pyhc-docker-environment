{
 "cells": [
  {
   "cell_type": "markdown",
   "id": "9d5793ee",
   "metadata": {},
   "source": [
    "<img src=\"https://raw.githubusercontent.com/heliophysicsPy/Logo/main/png/PyHC%20shadow%20border%20w%20Text%201000x1000.png\" alt=\"PyHC logo\" width=\"250\"/>"
   ]
  },
  {
   "cell_type": "markdown",
   "id": "7415d07d",
   "metadata": {},
   "source": [
    "# 👋 Welcome to the PyHC Environment!  \n",
    "\n",
    "This cloud-based JupyterLab instance is maintained by the [Python in Heliophysics Community (PyHC)](https://pyhc.org) and the Science Platforms Coordination IHDEA working group. It builds upon the HelioCloud base image by providing **zero-install access** to all published [PyHC packages](https://pyhc.org/projects)—removing setup hurdles so you can focus on doing heliophysics work right in your browser.\n",
    "\n",
    "Learn more about how this environment was made at [its GitHub repository](https://github.com/heliophysicsPy/pyhc-docker-environment).\n",
    "\n",
    "Explore more environments at the [IHDEA Science Platforms Coordination GitHub repository](https://github.com/heliophysicsPy/science-platforms-coordination/tree/main).\n",
    "\n",
    "---"
   ]
  },
  {
   "cell_type": "markdown",
   "id": "07f94bf3",
   "metadata": {},
   "source": [
    "# 📝 User Survey\n",
    "\n",
    "<a href=\"https://forms.gle/TomnyarRjwrS66Ax5\"><img src=\"https://i.ibb.co/DH68Pp1b/survey-qr.png\" alt=\"User Survey QR Code\" width=\"150\"></a>\n",
    "\n",
    "**Please take this [short survey](https://forms.gle/TomnyarRjwrS66Ax5) after trying the environment. Your feedback will be critical in guiding our future development.** \n",
    "\n",
    "---"
   ]
  },
  {
   "cell_type": "markdown",
   "id": "e9ad5c09",
   "metadata": {},
   "source": [
    "## 🧠 What Is This Environment For?\n",
    "\n",
    "- Try out PyHC packages without installing anything\n",
    "- Run code interactively in the browser using JupyterLab\n",
    "- Prototype and share heliophysics workflows\n",
    "- Help test for compatibility across the ecosystem\n",
    "\n",
    "This environment updates **nightly** with the latest package versions. The conda environment is fully writable—so feel free to `pip install` additional packages, test experimental setups, and customize the workspace to fit your needs. Just note that all changes will reset when your Binder session ends.\n",
    "\n",
    "We are working on ways to cite and share this environment (e.g. via DOIs). We haven't found the perfect solution yet, but it's a top priority for our working group!\n",
    "\n",
    "---"
   ]
  },
  {
   "cell_type": "markdown",
   "id": "df3466db",
   "metadata": {},
   "source": [
    "## 📘 Documentation & Support\n",
    "\n",
    "Visit the [PyHC Documentation Hub](https://pyhc.org/pyhc-docs) for centralized access to all PyHC package documentation, including a unified Read the Docs search.\n",
    "\n",
    "---"
   ]
  },
  {
   "cell_type": "markdown",
   "id": "046a1368",
   "metadata": {
    "jp-MarkdownHeadingCollapsed": true
   },
   "source": [
    "## 📂 Included Notebooks\n",
    "\n",
    "- **[import-test.ipynb](./notebooks/import-test.ipynb):** Confirms all packages successfully import together\n",
    "- **[CloudCatalog_Demo.ipynb](./notebooks/CloudCatalog_Demo.ipynb):** Demo showing how to access catalogs of NASA data available in the cloud\n",
    "- **[Demo_Weekly_MMS_Magnetopause_Crossings.ipynb](./notebooks/Demo_Weekly_MMS_Magnetopause_Crossings.ipynb):** Demo showing how notebooks can be reusable modules for scientific analyses \n",
    "- **[Making_an_Executable_Paper_with_the_Python_in_Heliophysics_Community_to_Foster_Open_Science_and_Improve_Reproducibility.ipynb](./notebooks/Making_an_Executable_Paper_with_the_Python_in_Heliophysics_Community_to_Foster_Open_Science_and_Improve_Reproducibility.ipynb):** Full executable paper comparing magnetosphere models to spacecraft observations using PyHC packages\n",
    "- **[sunpy_and_pyspedas.ipynb](./notebooks/sunpy_and_pyspedas.ipynb):** Demo analyzing a solar event with `sunpy` and `pyspedas`\n",
    "- **[TensorFlow_Boundary_Demo.ipynb](./notebooks/TensorFlow_Boundary_Demo.ipynb):** Toy machine learning example showing basic TensorFlow usage\n",
    "---"
   ]
  },
  {
   "cell_type": "markdown",
   "id": "e899d493",
   "metadata": {},
   "source": [
    "## 📦 View Installed Packages\n",
    "\n",
    "Run the cell below to see everything installed in this Python environment:"
   ]
  },
  {
   "cell_type": "code",
   "execution_count": null,
   "id": "38299686",
   "metadata": {},
   "outputs": [],
   "source": [
    "!conda list -p /srv/conda/envs/notebook"
   ]
  },
  {
   "cell_type": "markdown",
   "id": "afc98a91",
   "metadata": {},
   "source": [
    "---\n",
    "\n",
    "## 🙌 Want to Contribute?\n",
    "\n",
    "PyHC is an open community! Join us via:\n",
    "- 💬 [Telecons](https://pyhc.org/contact)\n",
    "- 🧑‍💻 [GitHub](https://github.com/heliophysicsPy)\n",
    "- 📥 [Our package submission process](https://heliopython.org/docs/adding_a_project/)\n",
    "\n",
    "Happy exploring! ✨"
   ]
  }
 ],
 "metadata": {
  "kernelspec": {
   "display_name": "Python 3 (ipykernel)",
   "language": "python",
   "name": "python3"
  },
  "language_info": {
   "codemirror_mode": {
    "name": "ipython",
    "version": 3
   },
   "file_extension": ".py",
   "mimetype": "text/x-python",
   "name": "python",
   "nbconvert_exporter": "python",
   "pygments_lexer": "ipython3",
   "version": "3.11.11"
  }
 },
 "nbformat": 4,
 "nbformat_minor": 5
}
