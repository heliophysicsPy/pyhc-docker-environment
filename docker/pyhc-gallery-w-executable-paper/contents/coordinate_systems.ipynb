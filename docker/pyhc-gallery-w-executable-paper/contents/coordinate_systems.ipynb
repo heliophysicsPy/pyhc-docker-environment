{
 "cells": [
  {
   "cell_type": "markdown",
   "metadata": {},
   "source": [
    "\n",
    "# Transforming Coordinates Between SpacePy, Astropy, and SunPy\n",
    "\n",
    "Written by Matt Wentzel-Long. The purpose of this example is to demonstrate how to pass coordinates between SpacePy, Astropy, and SunPy, and how to compute some simple transformations in each package.\n"
   ]
  },
  {
   "cell_type": "code",
   "execution_count": 1,
   "metadata": {
    "jupyter": {
     "outputs_hidden": false
    }
   },
   "outputs": [],
   "source": [
    "from spacepy.coordinates import Coords\n",
    "import spacepy.time as spt\n",
    "\n",
    "import astropy.units as u\n",
    "from astropy.coordinates import SkyCoord\n",
    "\n",
    "from sunpy.coordinates import frames"
   ]
  },
  {
   "cell_type": "markdown",
   "metadata": {},
   "source": [
    "First, create a [SpacePy coordinate](https://spacepy.github.io/autosummary/spacepy.coordinates.Coords.html) in the (Cartesian) Geographic Coordinate System (GEO) and attach an observation time to the coordinate. Units are in Earth radii (Re). "
   ]
  },
  {
   "cell_type": "code",
   "execution_count": 2,
   "metadata": {},
   "outputs": [
    {
     "name": "stdout",
     "output_type": "stream",
     "text": [
      "Coords( [[1, 2, 4], [1, 2, 2]] , 'GEO', 'car')\n"
     ]
    }
   ],
   "source": [
    "coord = Coords([[1,2,4],[1,2,2]], 'GEO', 'car')\n",
    "coord.ticks = spt.Ticktock(['2002-02-02T12:00:00', '2002-02-02T12:00:00'], 'ISO')\n",
    "\n",
    "print(coord)"
   ]
  },
  {
   "cell_type": "markdown",
   "metadata": {},
   "source": [
    "In SpacePy, the convert method can be used to easily convert coordinates into one of the [10 coordinate systems](https://spacepy.github.io/coordinates.html) supported. For example, convert the coordinates to the (Cartesian) Solar Magnetic system."
   ]
  },
  {
   "cell_type": "code",
   "execution_count": 3,
   "metadata": {},
   "outputs": [
    {
     "name": "stdout",
     "output_type": "stream",
     "text": [
      "Coords( [[0.814408577493688, 2.648338696371909, 3.6500740839336188], [0.9232104562461743, 2.3057302593531515, 1.6826438793104677]] , 'SM', 'car')\n"
     ]
    }
   ],
   "source": [
    "sm = coord.convert('SM','car')\n",
    "print(sm)"
   ]
  },
  {
   "cell_type": "markdown",
   "metadata": {},
   "source": [
    "Send the coordinates to an Astropy SkyCoord instance using the SpacePy `to_skycoord` function. Units are converted to meters. \n",
    "\n",
    "Note: this must be in the GEO system."
   ]
  },
  {
   "cell_type": "code",
   "execution_count": 4,
   "metadata": {},
   "outputs": [
    {
     "name": "stdout",
     "output_type": "stream",
     "text": [
      "<SkyCoord (ITRS: obstime=[6.96686413e+08 6.96686413e+08]): (x, y, z) in m\n",
      "    [(6371200., 12742400., 25484800.), (6371200., 12742400., 12742400.)]>\n"
     ]
    }
   ],
   "source": [
    "skycoord = coord.to_skycoord()\n",
    "print(skycoord)"
   ]
  },
  {
   "cell_type": "markdown",
   "metadata": {},
   "source": [
    "See the Astropy documentation for [transforming coordinates](https://docs.astropy.org/en/stable/coordinates/transforming.html#astropy-coordinates-transforming). Here is a simple example that transforms the skycoord into the FK5 system. "
   ]
  },
  {
   "cell_type": "code",
   "execution_count": 5,
   "metadata": {},
   "outputs": [
    {
     "name": "stdout",
     "output_type": "stream",
     "text": [
      "<SkyCoord (FK5: equinox=J2000.000): (ra, dec, distance) in (deg, deg, m)\n",
      "    [(136.18233833, 16.72158771, 1.46960941e+11),\n",
      "     (136.18233946, 16.71682971, 1.46957277e+11)]>\n"
     ]
    }
   ],
   "source": [
    "sky_fk5 = skycoord.transform_to('fk5')\n",
    "print(sky_fk5)"
   ]
  },
  {
   "cell_type": "markdown",
   "metadata": {},
   "source": [
    "Use the [SunPy frames](https://docs.sunpy.org/en/stable/code_ref/coordinates/index.html) function to transform this coordinate into a Heliogaphic Carrington coordinate.\n",
    "\n",
    "Note: helioprojective frames require that an observer be defined."
   ]
  },
  {
   "cell_type": "code",
   "execution_count": 6,
   "metadata": {},
   "outputs": [
    {
     "name": "stdout",
     "output_type": "stream",
     "text": [
      "<SkyCoord (HeliographicCarrington: obstime=[6.96686413e+08 6.96686413e+08], rsun=695700.0 km, observer=<HeliographicStonyhurst Coordinate (obstime=[6.96686413e+08 6.96686413e+08], rsun=695700.0 km): (lon, lat, radius) in (deg, deg, AU)\n",
      "    [(0., -6.12373415, 0.98554015), (0., -6.12373415, 0.98554015)]>): (lon, lat, radius) in (deg, deg, m)\n",
      "    [(11.75877738, -6.11476108, 1.47435249e+11),\n",
      "     (11.75982715, -6.11938557, 1.47431569e+11)]>\n"
     ]
    }
   ],
   "source": [
    "sky_helio = skycoord.transform_to(frames.HeliographicCarrington(observer=\"earth\"))\n",
    "print(sky_helio)"
   ]
  },
  {
   "cell_type": "markdown",
   "metadata": {},
   "source": [
    "See the [Astropy Coordinates and SunPy Demo](https://heliopython.org/gallery/generated/gallery/coordinates_demo.html#sphx-glr-generated-gallery-coordinates-demo-py) for coordinate transformations in SunPy **(TODO: update this link once Jupyter Book gallery replaces the old gallery)**."
   ]
  },
  {
   "cell_type": "markdown",
   "metadata": {},
   "source": [
    "Now, convert the coordinate back into its original form to demonstrate transformations in the other direction, and the loss of precision. First, convert this back to GEO coordinates (ITRS in Astropy)."
   ]
  },
  {
   "cell_type": "code",
   "execution_count": 7,
   "metadata": {},
   "outputs": [
    {
     "name": "stdout",
     "output_type": "stream",
     "text": [
      "<SkyCoord (ITRS: obstime=[6.96686413e+08 6.96686413e+08]): (x, y, z) in m\n",
      "    [(6371199.99999981, 12742399.99995084, 25484799.99999662),\n",
      "     (6371199.99999466, 12742400.00000276, 12742400.00001287)]>\n"
     ]
    }
   ],
   "source": [
    "sun_geo = sky_helio.transform_to('itrs')\n",
    "print(sun_geo)"
   ]
  },
  {
   "cell_type": "markdown",
   "metadata": {},
   "source": [
    "Lastly, use the SpacePy from_skycoord function to transform this back into a SpacePy coordinate."
   ]
  },
  {
   "cell_type": "code",
   "execution_count": 8,
   "metadata": {},
   "outputs": [
    {
     "name": "stdout",
     "output_type": "stream",
     "text": [
      "Coords( [[0.9999999999999699, 1.9999999999922848, 3.999999999999469], [0.9999999999991617, 2.000000000000434, 2.0000000000020193]] , 'GEO', 'car')\n"
     ]
    }
   ],
   "source": [
    "coord = Coords.from_skycoord(sun_geo)\n",
    "print(coord)"
   ]
  },
  {
   "cell_type": "markdown",
   "metadata": {},
   "source": [
    "The observation time is now in Astropy time (APT) (see [here](https://spacepy.github.io/autosummary/spacepy.time.Ticktock.html))."
   ]
  },
  {
   "cell_type": "code",
   "execution_count": 9,
   "metadata": {},
   "outputs": [
    {
     "name": "stdout",
     "output_type": "stream",
     "text": [
      "Ticktock( [6.96686413e+08 6.96686413e+08], dtype=APT)\n"
     ]
    }
   ],
   "source": [
    "print(coord.ticks)"
   ]
  },
  {
   "cell_type": "markdown",
   "metadata": {},
   "source": [
    "You can verify that this is the original observation time by converting it to ISO."
   ]
  },
  {
   "cell_type": "code",
   "execution_count": 10,
   "metadata": {},
   "outputs": [
    {
     "name": "stdout",
     "output_type": "stream",
     "text": [
      "['2002-02-02T12:00:00' '2002-02-02T12:00:00']\n"
     ]
    }
   ],
   "source": [
    "print(coord.ticks.getISO())"
   ]
  }
 ],
 "metadata": {
  "kernelspec": {
   "display_name": "pyhc",
   "language": "python",
   "name": "pyhc"
  },
  "language_info": {
   "codemirror_mode": {
    "name": "ipython",
    "version": 3
   },
   "file_extension": ".py",
   "mimetype": "text/x-python",
   "name": "python",
   "nbconvert_exporter": "python",
   "pygments_lexer": "ipython3",
   "version": "3.10.8"
  }
 },
 "nbformat": 4,
 "nbformat_minor": 4
}
