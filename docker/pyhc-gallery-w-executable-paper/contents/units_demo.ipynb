{
 "cells": [
  {
   "cell_type": "code",
   "execution_count": 1,
   "metadata": {
    "jupyter": {
     "outputs_hidden": false
    }
   },
   "outputs": [],
   "source": [
    "%matplotlib inline"
   ]
  },
  {
   "cell_type": "markdown",
   "metadata": {},
   "source": [
    "\n",
    "# Quantities, Units, and Constants\n",
    "\n",
    "The purpose of this demo is to demonstrate the capabilities of astropy\n",
    "`astropy.units.Unit`, `astropy.units.Quantity`, and `astropy.units.Constant`.\n"
   ]
  },
  {
   "cell_type": "markdown",
   "metadata": {},
   "source": [
    "The astropy `astropy.units.Quantity` object\n",
    "handles defining, converting between, and performing arithmetic\n",
    "with physical quantities, such as meters, seconds, Hz, etc.\n",
    "\n"
   ]
  },
  {
   "cell_type": "code",
   "execution_count": 2,
   "metadata": {
    "jupyter": {
     "outputs_hidden": false
    }
   },
   "outputs": [],
   "source": [
    "from astropy import units as u\n",
    "import numpy as np"
   ]
  },
  {
   "cell_type": "markdown",
   "metadata": {},
   "source": [
    "You can define a `astropy.units.Quantity`\n",
    "(a number with a unit) in a number of different ways.\n",
    "\n"
   ]
  },
  {
   "cell_type": "code",
   "execution_count": 3,
   "metadata": {
    "jupyter": {
     "outputs_hidden": false
    }
   },
   "outputs": [
    {
     "data": {
      "text/latex": [
       "$[0,~1,~2,~3,~4,~5,~6,~7,~8,~9] \\; \\mathrm{Hz}$"
      ],
      "text/plain": [
       "<Quantity [0., 1., 2., 3., 4., 5., 6., 7., 8., 9.] Hz>"
      ]
     },
     "execution_count": 3,
     "metadata": {},
     "output_type": "execute_result"
    }
   ],
   "source": [
    "42.0 * u.meter\n",
    "[1., 2., 3.] * u.s\n",
    "np.arange(10) * u.Hz"
   ]
  },
  {
   "cell_type": "markdown",
   "metadata": {},
   "source": [
    "These objects work as you would expect with most Python operators or numpy\n",
    "functions\n",
    "\n"
   ]
  },
  {
   "cell_type": "code",
   "execution_count": 4,
   "metadata": {
    "jupyter": {
     "outputs_hidden": false
    }
   },
   "outputs": [
    {
     "data": {
      "text/latex": [
       "$4 \\; \\mathrm{s^{2}}$"
      ],
      "text/plain": [
       "<Quantity 4. s2>"
      ]
     },
     "execution_count": 4,
     "metadata": {},
     "output_type": "execute_result"
    }
   ],
   "source": [
    "np.power(2 * u.s, 3)\n",
    "(2 * u.s) ** 2"
   ]
  },
  {
   "cell_type": "markdown",
   "metadata": {},
   "source": [
    "If needed you can get the value as well as the unit\n",
    "\n"
   ]
  },
  {
   "cell_type": "code",
   "execution_count": 5,
   "metadata": {
    "jupyter": {
     "outputs_hidden": false
    }
   },
   "outputs": [
    {
     "name": "stdout",
     "output_type": "stream",
     "text": [
      "The value is 42.0 and the unit is m\n"
     ]
    }
   ],
   "source": [
    "q = 42.0 * u.meter\n",
    "print(\"The value is {0} and the unit is {1}\".format(q.value, q.unit))"
   ]
  },
  {
   "cell_type": "markdown",
   "metadata": {},
   "source": [
    "Using the `astropy.units.Quantity.to` function we can easily converted to\n",
    "another unit.\n",
    "\n"
   ]
  },
  {
   "cell_type": "code",
   "execution_count": 6,
   "metadata": {
    "jupyter": {
     "outputs_hidden": false
    }
   },
   "outputs": [
    {
     "name": "stdout",
     "output_type": "stream",
     "text": [
      "1.3611273015666334e-15 pc\n"
     ]
    }
   ],
   "source": [
    "print(q.to('parsec'))"
   ]
  },
  {
   "cell_type": "markdown",
   "metadata": {},
   "source": [
    "and imperial units as also supported\n",
    "\n"
   ]
  },
  {
   "cell_type": "code",
   "execution_count": 7,
   "metadata": {
    "jupyter": {
     "outputs_hidden": false
    }
   },
   "outputs": [
    {
     "name": "stdout",
     "output_type": "stream",
     "text": [
      "0.026097590073968023 mi\n"
     ]
    }
   ],
   "source": [
    "from astropy.units import imperial\n",
    "print(q.to(imperial.mile))"
   ]
  },
  {
   "cell_type": "markdown",
   "metadata": {},
   "source": [
    "Units that “cancel out” become a special unit called the “dimensionless unit”:\n",
    "\n"
   ]
  },
  {
   "cell_type": "code",
   "execution_count": 8,
   "metadata": {
    "jupyter": {
     "outputs_hidden": false
    }
   },
   "outputs": [
    {
     "data": {
      "text/latex": [
       "$\\mathrm{}$"
      ],
      "text/plain": [
       "Unit(dimensionless)"
      ]
     },
     "execution_count": 8,
     "metadata": {},
     "output_type": "execute_result"
    }
   ],
   "source": [
    "u.m / u.m"
   ]
  },
  {
   "cell_type": "markdown",
   "metadata": {},
   "source": [
    "More complex conversions are also supported using\n",
    "`astropy.units.equivalencies`.\n",
    "For example, we can convert the GOES wavelength range to Hz or keV easily using\n",
    "the `astropy.units.equivalencies.spectral`.\n",
    "\n"
   ]
  },
  {
   "cell_type": "code",
   "execution_count": 9,
   "metadata": {
    "jupyter": {
     "outputs_hidden": false
    }
   },
   "outputs": [
    {
     "name": "stdout",
     "output_type": "stream",
     "text": [
      "[5.99584916e+18 7.49481145e+17] Hz\n",
      "[24.79683969  3.09960496] keV\n"
     ]
    }
   ],
   "source": [
    "print(([0.5, 4.0] * u.angstrom).to('Hz', u.spectral()))\n",
    "\n",
    "print(([0.5, 4.0] * u.angstrom).to('keV', u.spectral()))"
   ]
  },
  {
   "cell_type": "markdown",
   "metadata": {},
   "source": [
    "Astropy provides a number of reference constants\n",
    "\n"
   ]
  },
  {
   "cell_type": "code",
   "execution_count": 10,
   "metadata": {
    "jupyter": {
     "outputs_hidden": false
    }
   },
   "outputs": [],
   "source": [
    "from astropy import constants as astropy_const"
   ]
  },
  {
   "cell_type": "markdown",
   "metadata": {},
   "source": [
    "SunPy also provides a number of relevant solar reference constants.\n",
    "\n"
   ]
  },
  {
   "cell_type": "code",
   "execution_count": 11,
   "metadata": {
    "jupyter": {
     "outputs_hidden": false
    }
   },
   "outputs": [],
   "source": [
    "from sunpy.sun import constants as sunpy_const"
   ]
  },
  {
   "cell_type": "markdown",
   "metadata": {},
   "source": [
    "`astropy.units.Constant` are simply quantities but they also provide an uncertainty\n",
    "and a reference\n",
    "\n"
   ]
  },
  {
   "cell_type": "code",
   "execution_count": 12,
   "metadata": {
    "jupyter": {
     "outputs_hidden": false
    }
   },
   "outputs": [
    {
     "name": "stdout",
     "output_type": "stream",
     "text": [
      "The mass of the Earth is 5.972167867791379e+24 +/- 1.3422009501651213e+20 kg [ref IAU 2015 Resolution B 3 + CODATA 2018].\n"
     ]
    }
   ],
   "source": [
    "M_earth = astropy_const.M_earth\n",
    "print(\"The mass of the Earth is {0} +/- {1} {2} [ref {3}].\".format(M_earth.value, M_earth.uncertainty, M_earth.unit, M_earth.reference))"
   ]
  },
  {
   "cell_type": "markdown",
   "metadata": {},
   "source": [
    "The light travel time in minutes from the Sun to the Earth can be calculated\n",
    "\n"
   ]
  },
  {
   "cell_type": "code",
   "execution_count": 13,
   "metadata": {
    "jupyter": {
     "outputs_hidden": false
    }
   },
   "outputs": [
    {
     "name": "stdout",
     "output_type": "stream",
     "text": [
      "8.316746397269274 min\n"
     ]
    }
   ],
   "source": [
    "print((sunpy_const.au / astropy_const.c).to('min'))"
   ]
  },
  {
   "cell_type": "markdown",
   "metadata": {},
   "source": [
    "Let's define a function to calculate the plasma beta, with quantities we\n",
    "don't have to worry about much beyond getting the equation correct\n",
    "\n"
   ]
  },
  {
   "cell_type": "code",
   "execution_count": 14,
   "metadata": {
    "jupyter": {
     "outputs_hidden": false
    }
   },
   "outputs": [],
   "source": [
    "def plasma_beta(n, T, B):\n",
    "    return (2 * n * astropy_const.k_B * T) / (B ** 2 / (2 * astropy_const.mu0))"
   ]
  },
  {
   "cell_type": "markdown",
   "metadata": {},
   "source": [
    "The plasma beta for the solar corona using appropriate parameters is given\n",
    "by the following. The decompose function works to simplify the units.\n",
    "\n"
   ]
  },
  {
   "cell_type": "code",
   "execution_count": 15,
   "metadata": {
    "jupyter": {
     "outputs_hidden": false
    }
   },
   "outputs": [
    {
     "name": "stdout",
     "output_type": "stream",
     "text": [
      "0.2081969643814698\n"
     ]
    }
   ],
   "source": [
    "print(plasma_beta(1e9 * u.cm**-3, 3e6 * u.Kelvin, 10 * u.Gauss).decompose())"
   ]
  },
  {
   "cell_type": "markdown",
   "metadata": {},
   "source": [
    "If the input is given in the wrong units then an error may occur but a better\n",
    "way is to inforce the units on input. Let's consider a simpler example here\n",
    "to calculate velocity. We use a function annotation to specify the units\n",
    "(this is a Python 3.5+ feature, see the [quantity_input](http://docs.astropy.org/en/stable/api/astropy.units.quantity_input.html#astropy.units.quantity_input) documentation for more details and Python 2 instructions):\n",
    "\n"
   ]
  },
  {
   "cell_type": "code",
   "execution_count": 16,
   "metadata": {
    "jupyter": {
     "outputs_hidden": false
    }
   },
   "outputs": [],
   "source": [
    "@u.quantity_input\n",
    "def speed(length: u.m, time: u.s):\n",
    "    return length / time"
   ]
  }
 ],
 "metadata": {
  "kernelspec": {
   "display_name": "pyhc",
   "language": "python",
   "name": "pyhc"
  },
  "language_info": {
   "codemirror_mode": {
    "name": "ipython",
    "version": 3
   },
   "file_extension": ".py",
   "mimetype": "text/x-python",
   "name": "python",
   "nbconvert_exporter": "python",
   "pygments_lexer": "ipython3",
   "version": "3.10.8"
  }
 },
 "nbformat": 4,
 "nbformat_minor": 4
}
