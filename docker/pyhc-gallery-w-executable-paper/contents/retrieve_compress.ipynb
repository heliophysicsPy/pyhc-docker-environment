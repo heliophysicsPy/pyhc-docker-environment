{
 "cells": [
  {
   "cell_type": "markdown",
   "metadata": {},
   "source": [
    "\n",
    "# Downloading and Compressing a FITS file using SunPy, aiapy, and Astropy\n",
    "\n",
    "Written by Matt Wentzel-Long. The purpose of this demo is to demonstrate:\n",
    "1) SunPy's ability to retrieve a Level 1 AIA data, 2) deconvolve the FITS file using aiapy,\n",
    "3) convert this to Level 1.5 AIA data using aiapy,  and 4)\n",
    "demonstrate the compression ability of Astropy when saving the file.\n"
   ]
  },
  {
   "cell_type": "markdown",
   "metadata": {},
   "source": [
    "First import the packages\n",
    "\n"
   ]
  },
  {
   "cell_type": "code",
   "execution_count": 1,
   "metadata": {},
   "outputs": [],
   "source": [
    "import astropy.units as u\n",
    "from astropy.io.fits import CompImageHDU\n",
    "\n",
    "from sunpy.map import Map\n",
    "from sunpy.net import Fido, attrs as a\n",
    "\n",
    "import aiapy.psf as psf_\n",
    "from aiapy.calibrate import register, update_pointing\n",
    "\n",
    "import os"
   ]
  },
  {
   "cell_type": "markdown",
   "metadata": {},
   "source": [
    "Use the SunPy tool [Fido](https://docs.sunpy.org/en/v3.0.1/guide/acquiring_data/fido.html) to find and download level 1 AIA data. \n",
    "\n"
   ]
  },
  {
   "cell_type": "code",
   "execution_count": 2,
   "metadata": {},
   "outputs": [
    {
     "data": {
      "application/vnd.jupyter.widget-view+json": {
       "model_id": "6104ddedaca1424996bd9fbeb2cef53e",
       "version_major": 2,
       "version_minor": 0
      },
      "text/plain": [
       "Files Downloaded:   0%|          | 0/1 [00:00<?, ?file/s]"
      ]
     },
     "metadata": {},
     "output_type": "display_data"
    }
   ],
   "source": [
    "q = Fido.search(a.Time('2011-06-07T06:52:00', '2011-06-07T06:52:10'),\n",
    "                a.Instrument('AIA'),\n",
    "                a.Wavelength(wavemin=171*u.angstrom, wavemax=171*u.angstrom))\n",
    "aia_map = Map(Fido.fetch(q))"
   ]
  },
  {
   "cell_type": "markdown",
   "metadata": {},
   "source": [
    "Compute the point-spread function (PSF) and use it to deconvolve the image.\n",
    "Deconvolution should only be performed on level 1 data (see this guide for\n",
    "[prepairing AIA data using aiapy](https://aiapy.readthedocs.io/en/stable/preparing_data.html)).\n",
    "Warning: the PSF computation can take over 16 minutes on a CPU. If you have\n",
    "an NVIDIA GPU and CuPy installed, then PSF will automatically use it.\n",
    "See the [PSF documentation](https://aiapy.readthedocs.io/en/latest/api/aiapy.psf.psf.html) for details.\n",
    "\n"
   ]
  },
  {
   "cell_type": "code",
   "execution_count": 3,
   "metadata": {},
   "outputs": [],
   "source": [
    "psf = psf_.psf(aia_map.wavelength)\n",
    "map_deconvolved = psf_.deconvolve(aia_map, psf=psf)"
   ]
  },
  {
   "cell_type": "markdown",
   "metadata": {},
   "source": [
    "Convert to level 1.5 AIA data. See the [registering and aligning level 1 data](https://aiapy.readthedocs.io/en/latest/generated/gallery/prepping_level_1_data.html)\n",
    "example in aiapy documentation for more details. \n",
    "\n"
   ]
  },
  {
   "cell_type": "code",
   "execution_count": 4,
   "metadata": {},
   "outputs": [],
   "source": [
    "m_updated_pointing = update_pointing(map_deconvolved)\n",
    "m_registered = register(m_updated_pointing)\n",
    "m_normalized = Map(m_registered.data/m_registered.exposure_time.to(u.s).value, \n",
    "                   m_registered.meta)"
   ]
  },
  {
   "cell_type": "markdown",
   "metadata": {},
   "source": [
    "Save the deconvolved image as a FITS file without compression using SunPy.\n",
    "Note: this resulted in a 128 MB file while testing.\n",
    "\n"
   ]
  },
  {
   "cell_type": "code",
   "execution_count": 5,
   "metadata": {},
   "outputs": [
    {
     "name": "stderr",
     "output_type": "stream",
     "text": [
      "WARNING: VerifyWarning: Invalid 'BLANK' keyword in header.  The 'BLANK' keyword is only applicable to integer data, and will be ignored in this HDU. [astropy.io.fits.hdu.image]\n"
     ]
    },
    {
     "name": "stdout",
     "output_type": "stream",
     "text": [
      "134104320\n"
     ]
    }
   ],
   "source": [
    "m_normalized.save('aia_map_deconv.fits')\n",
    "print(os.path.getsize('aia_map_deconv.fits'))"
   ]
  },
  {
   "cell_type": "markdown",
   "metadata": {},
   "source": [
    "This time pass SunPy the [CompImagHDU](https://docs.astropy.org/en/stable/io/fits/api/images.html#compimagehdu) compression routine from Astropy."
   ]
  },
  {
   "cell_type": "code",
   "execution_count": 6,
   "metadata": {},
   "outputs": [
    {
     "name": "stdout",
     "output_type": "stream",
     "text": [
      "14221440\n"
     ]
    }
   ],
   "source": [
    "m_normalized.save('aia_map_deconv_comp.fits', hdu_type=CompImageHDU)\n",
    "print(os.path.getsize('aia_map_deconv_comp.fits'))"
   ]
  }
 ],
 "metadata": {
  "kernelspec": {
   "display_name": "pyhc",
   "language": "python",
   "name": "pyhc"
  },
  "language_info": {
   "codemirror_mode": {
    "name": "ipython",
    "version": 3
   },
   "file_extension": ".py",
   "mimetype": "text/x-python",
   "name": "python",
   "nbconvert_exporter": "python",
   "pygments_lexer": "ipython3",
   "version": "3.10.8"
  }
 },
 "nbformat": 4,
 "nbformat_minor": 1
}
