{
 "cells": [
  {
   "cell_type": "code",
   "execution_count": null,
   "id": "550e18aa-80a7-4c64-b754-3de795477063",
   "metadata": {},
   "outputs": [
    {
     "name": "stdout",
     "output_type": "stream",
     "text": [
      "\n",
      "All the PyHC imports worked!\n",
      "\n"
     ]
    }
   ],
   "source": [
    "import aacgmv2\n",
    "import aiapy\n",
    "import aidapy\n",
    "import amisrsynthdata\n",
    "import apexpy\n",
    "import asilib\n",
    "import astrometry_azel\n",
    "import ccsdspy\n",
    "import cdflib\n",
    "import cloudcatalog\n",
    "import dascutils\n",
    "import dbprocessing\n",
    "import dmsp\n",
    "import enlilviz\n",
    "import EUVpy\n",
    "import fiasco\n",
    "import gcmprocpy\n",
    "import geopack\n",
    "import georinex\n",
    "import geospacelab\n",
    "import goesutils\n",
    "import hapiclient\n",
    "import heliopy\n",
    "import hissw\n",
    "import igrf\n",
    "import iri2016\n",
    "import irispy\n",
    "import kaipy\n",
    "import kamodo\n",
    "import lofarSun\n",
    "import lowtran\n",
    "import madrigalWeb\n",
    "import maidenhead\n",
    "import mcalf\n",
    "import msise00\n",
    "import ndcube\n",
    "import nexradutils\n",
    "import OMMBV\n",
    "import plasmapy\n",
    "import pyaurorax\n",
    "import pycdfpp\n",
    "import pydarn\n",
    "import pyflct\n",
    "import pymap3d\n",
    "import pyrfu\n",
    "import pyspedas\n",
    "import pytplot\n",
    "import pyzenodo3\n",
    "import reesaurora\n",
    "import regularizepsf\n",
    "import sammi\n",
    "import savic\n",
    "import sciencedates\n",
    "import SciQLop\n",
    "import skywinder\n",
    "import solarmach\n",
    "import solo_epd_loader\n",
    "import space_packet_parser\n",
    "import spacepy\n",
    "import speasy\n",
    "import spiceypy\n",
    "import sunkit_image\n",
    "import sunkit_instruments\n",
    "import sunpy\n",
    "import sunraster\n",
    "import swxsoc\n",
    "import themisasi\n",
    "import viresclient\n",
    "import wmm2015\n",
    "import wmm2020\n",
    "\n",
    "\n",
    "print(\"\\nAll the PyHC imports worked!\\n\")"
   ]
  }
 ],
 "metadata": {
  "kernelspec": {
   "display_name": "Python 3 (ipykernel)",
   "language": "python",
   "name": "python3"
  },
  "language_info": {
   "codemirror_mode": {
    "name": "ipython",
    "version": 3
   },
   "file_extension": ".py",
   "mimetype": "text/x-python",
   "name": "python",
   "nbconvert_exporter": "python",
   "pygments_lexer": "ipython3",
   "version": "3.10.14"
  }
 },
 "nbformat": 4,
 "nbformat_minor": 5
}
