{
 "cells": [
  {
   "cell_type": "code",
   "execution_count": 10,
   "id": "83d62f14",
   "metadata": {},
   "outputs": [
    {
     "name": "stdout",
     "output_type": "stream",
     "text": [
      "\n",
      "All the PyHC imports worked!\n",
      "\n"
     ]
    }
   ],
   "source": [
    "import aacgmv2\n",
    "import aiapy\n",
    "import aidapy\n",
    "import apexpy\n",
    "import astrometry_azel\n",
    "import ccsdspy\n",
    "import cdflib\n",
    "import dascutils\n",
    "import dbprocessing\n",
    "import dmsp\n",
    "import enlilviz\n",
    "import fiasco\n",
    "import georinex\n",
    "import geospacelab\n",
    "import goesutils\n",
    "import hissw\n",
    "import igrf\n",
    "import iri2016\n",
    "import irispy\n",
    "import lowtran\n",
    "import mcalf\n",
    "import msise00\n",
    "import ndcube\n",
    "import nexradutils\n",
    "import ocbpy\n",
    "import OMMBV\n",
    "import pydarn\n",
    "import pyflct\n",
    "import pytplot  # should pull in pytplot_mpl_temp\n",
    "import pyzenodo3\n",
    "import reesaurora\n",
    "import regularizepsf\n",
    "import sciencedates\n",
    "import solarmach\n",
    "import solo_epd_loader\n",
    "import space_packet_parser\n",
    "import speasy\n",
    "import spiceypy\n",
    "import sunkit_image\n",
    "import sunkit_instruments\n",
    "import sunraster\n",
    "import themisasi\n",
    "import viresclient\n",
    "import wmm2015\n",
    "import wmm2020\n",
    "import hapiclient\n",
    "import kamodo\n",
    "import plasmapy\n",
    "import pysat\n",
    "import pyspedas\n",
    "import spacepy\n",
    "import sunpy\n",
    "\n",
    "\n",
    "print(\"\\nAll the PyHC imports worked!\\n\")"
   ]
  },
  {
   "cell_type": "code",
   "execution_count": null,
   "id": "f5d12d6c",
   "metadata": {},
   "outputs": [],
   "source": []
  }
 ],
 "metadata": {
  "kernelspec": {
   "display_name": "Python 3 (ipykernel)",
   "language": "python",
   "name": "python3"
  },
  "language_info": {
   "codemirror_mode": {
    "name": "ipython",
    "version": 3
   },
   "file_extension": ".py",
   "mimetype": "text/x-python",
   "name": "python",
   "nbconvert_exporter": "python",
   "pygments_lexer": "ipython3",
   "version": "3.8.8"
  }
 },
 "nbformat": 4,
 "nbformat_minor": 5
}
